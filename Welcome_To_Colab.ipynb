{
  "cells": [
    {
      "cell_type": "code",
      "source": [
        "import paho.mqtt.client as mqtt\n",
        "import json\n",
        "import pandas as pd\n",
        "\n",
        "client=mqtt.Client()\n",
        "client.connect('broker.hivemq.com',1883)\n",
        "print('Broker Connected')\n",
        "client.subscribe('kits/cse')\n",
        "\n",
        "dataset=[]\n",
        "count=0\n",
        "\n",
        "def notification(client,userdata,msg):\n",
        "  global count\n",
        "  data=msg.payload\n",
        "  data=data.decode('utf-8')\n",
        "  print(data)\n",
        "  data=json.loads(data)\n",
        "  temp=data['temp']\n",
        "  temp=float(temp)\n",
        "  if temp<15:\n",
        "    result='off'\n",
        "  else:\n",
        "    result='on'\n",
        "  dummy=[temp,result]\n",
        "  dataset.append(dummy)\n",
        "  count+=1\n",
        "  if (count==10):\n",
        "    df=pd.DataFrame(dataset,columns=['Temp','Result'])\n",
        "    df.to_csv('data.csv')\n",
        "    count=0\n",
        "  print(dataset)\n",
        "\n",
        "client.on_message=notification\n",
        "client.loop_forever()"
      ],
      "metadata": {
        "id": "tlTTzcK467XG"
      },
      "execution_count": null,
      "outputs": []
    }
  ],
  "metadata": {
    "colab": {
      "name": "Welcome To Colab",
      "provenance": []
    },
    "kernelspec": {
      "display_name": "Python 3",
      "name": "python3"
    }
  },
  "nbformat": 4,
  "nbformat_minor": 0
}